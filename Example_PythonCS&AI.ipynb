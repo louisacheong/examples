{
  "nbformat": 4,
  "nbformat_minor": 0,
  "metadata": {
    "colab": {
      "provenance": [],
      "authorship_tag": "ABX9TyPfFVNZL+zXDDjESwlUfuRs",
      "include_colab_link": true
    },
    "kernelspec": {
      "name": "python3",
      "display_name": "Python 3"
    },
    "language_info": {
      "name": "python"
    }
  },
  "cells": [
    {
      "cell_type": "markdown",
      "metadata": {
        "id": "view-in-github",
        "colab_type": "text"
      },
      "source": [
        "<a href=\"https://colab.research.google.com/github/louisacheong/examples/blob/master/Example_PythonCS%26AI.ipynb\" target=\"_parent\"><img src=\"https://colab.research.google.com/assets/colab-badge.svg\" alt=\"Open In Colab\"/></a>"
      ]
    },
    {
      "cell_type": "markdown",
      "source": [
        "#Solve first ODE:\n",
        "$\\frac{dx}{dt}+x=1$\n",
        "#Solve the 2nd order:\n",
        "$\\frac{d^2y}{dt^2}+\\frac{dy}{dt}+y=e^t$"
      ],
      "metadata": {
        "id": "b_c7-Ef_RRJA"
      }
    },
    {
      "cell_type": "code",
      "execution_count": 3,
      "metadata": {
        "colab": {
          "base_uri": "https://localhost:8080/"
        },
        "id": "fNTL0t7jQi1r",
        "outputId": "ed8607c2-8027-4533-bfad-440bad7bafa6"
      },
      "outputs": [
        {
          "output_type": "stream",
          "name": "stdout",
          "text": [
            "Eq(x(t), C1*exp(-t) + 1)\n",
            "Eq(y(t), (C1*sin(sqrt(3)*t/2) + C2*cos(sqrt(3)*t/2))*exp(-t/2) + exp(t)/3)\n"
          ]
        }
      ],
      "source": [
        "#Solve 1st order ODE:\n",
        "from sympy import *\n",
        "t = symbols('t')\n",
        "x = symbols('x', cls=Function)\n",
        "ODE1 = Eq(x(t).diff(t), 1-x(t))\n",
        "sol1 = dsolve(ODE1, x(t))\n",
        "print(sol1)\n",
        "\n",
        "#Solve 2nd order ODE:\n",
        "y=symbols('y', cls=Function)\n",
        "ODE2 =Eq(y(t).diff(t,t) + y(t).diff(t) + y(t), exp(t))\n",
        "sol2 = dsolve(ODE2, y(t))\n",
        "print(sol2)\n"
      ]
    },
    {
      "cell_type": "markdown",
      "source": [
        "#Ex3.1 Use Python to solve the following differential equations:\n",
        "#Eq1:\n",
        "$\\frac{dy}{dx}=yx^2$\n",
        "#Eq2:\n",
        "$\\frac{dx}{dt}+x=sin(t)$"
      ],
      "metadata": {
        "id": "VAnPhTnNUGCe"
      }
    },
    {
      "cell_type": "code",
      "source": [
        "#Solve dydx=yx2\n",
        "from sympy import *\n",
        "x = symbols('x')\n",
        "y = symbols('y', cls=Function)\n",
        "DE1 = Eq(y(x).diff(x),y(x)*x**2)\n",
        "solDE1 = dsolve(DE1,y(x))\n",
        "print(solDE1)\n",
        "\n",
        "#Solve dxdt+x=sin(t)\n",
        "t = symbols('t')\n",
        "x = symbols('x', cls=Function)\n",
        "DE2 = Eq(x(t).diff(t),sin(t)-x(t))\n",
        "solDE2 = dsolve(DE2,x(t))\n",
        "print(solDE2)"
      ],
      "metadata": {
        "colab": {
          "base_uri": "https://localhost:8080/"
        },
        "id": "XFWrmYVqUTr4",
        "outputId": "cc264ea8-ea51-4e03-c220-a14b9fa2310d"
      },
      "execution_count": 7,
      "outputs": [
        {
          "output_type": "stream",
          "name": "stdout",
          "text": [
            "Eq(y(x), C1*exp(x**3/3))\n",
            "Eq(x(t), C1*exp(-t) + sin(t)/2 - cos(t)/2)\n"
          ]
        }
      ]
    },
    {
      "cell_type": "markdown",
      "source": [
        "#Animate parametric curve\n",
        "x(t) = \\ cos(t), y(t)=\\ sin(nt), for n from n=0 to n=4, when 0<t<2pi"
      ],
      "metadata": {
        "id": "Whf7uRX8aex0"
      }
    },
    {
      "cell_type": "code",
      "source": [],
      "metadata": {
        "id": "0Ld2z-BpZzLL"
      },
      "execution_count": null,
      "outputs": []
    }
  ]
}